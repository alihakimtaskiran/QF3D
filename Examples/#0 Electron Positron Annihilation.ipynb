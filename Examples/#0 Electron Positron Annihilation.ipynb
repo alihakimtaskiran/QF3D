{
 "cells": [
  {
   "cell_type": "code",
   "execution_count": 1,
   "id": "3da02a64",
   "metadata": {},
   "outputs": [
    {
     "name": "stdout",
     "output_type": "stream",
     "text": [
      "Jupyter environment detected. Enabling Open3D WebVisualizer.\n",
      "[Open3D INFO] WebRTC GUI backend enabled.\n",
      "[Open3D INFO] WebRTCWindowSystem: HTTP handshake server disabled.\n",
      "Get ready! Tachyon Era coming soon \n"
     ]
    }
   ],
   "source": [
    "import numpy as np\n",
    "import QF3D\n",
    "from IPython.display import Math"
   ]
  },
  {
   "cell_type": "code",
   "execution_count": 2,
   "id": "48851727",
   "metadata": {},
   "outputs": [],
   "source": [
    "def print_matrix(array):\n",
    "    matrix = ''\n",
    "    for row in array:\n",
    "        try:\n",
    "            for number in row:\n",
    "                matrix += f'{number}&'\n",
    "        except TypeError:\n",
    "            matrix += f'{row}&'\n",
    "        matrix = matrix[:-1] + r'\\\\'\n",
    "    return (r'\\begin{pmatrix}'+matrix+r'\\end{pmatrix}')"
   ]
  },
  {
   "cell_type": "code",
   "execution_count": 3,
   "id": "b6b9460a",
   "metadata": {},
   "outputs": [
    {
     "data": {
      "text/latex": [
       "$\\displaystyle p_{(electron)}^u =511000.0\\cdot\\begin{pmatrix} 1.0786099634261948  \\\\ 0.2858316403079416 \\\\ 0.2858316403079416 \\\\ 0 \\end{pmatrix}$"
      ],
      "text/plain": [
       "<IPython.core.display.Math object>"
      ]
     },
     "metadata": {},
     "output_type": "display_data"
    },
    {
     "data": {
      "text/latex": [
       "$\\displaystyle p_{(positron)}^u =511000.0\\cdot\\begin{pmatrix} 1.0786099634261948  \\\\ -0.2858316403079416 \\\\ 0.2858316403079416 \\\\ 0\\end{pmatrix}$"
      ],
      "text/plain": [
       "<IPython.core.display.Math object>"
      ]
     },
     "metadata": {},
     "output_type": "display_data"
    },
    {
     "data": {
      "text/latex": [
       "$\\displaystyle p_{\\gamma}^u=\\begin{pmatrix}1102339.382621571\\\\0.0\\\\292119.9363947163\\\\0.0\\\\\\end{pmatrix}$"
      ],
      "text/plain": [
       "<IPython.core.display.Math object>"
      ]
     },
     "metadata": {},
     "output_type": "display_data"
    },
    {
     "data": {
      "text/latex": [
       "$\\displaystyle E_{\\gamma}=1.10234MeV$"
      ],
      "text/plain": [
       "<IPython.core.display.Math object>"
      ]
     },
     "metadata": {},
     "output_type": "display_data"
    }
   ],
   "source": [
    "m_e=0.511e6\n",
    "initial_loc_e=np.array([0,0,0])\n",
    "initial_loc_a=np.array([0,4,0])\n",
    "vel_3_e=[.265,.265,0]\n",
    "vel_3_a=[-.265,.265,0]\n",
    "\n",
    "vel_4_e=np.array([1]+vel_3_e)/np.sqrt(1-np.linalg.norm(vel_3_e)**2)\n",
    "vel_4_a=np.array([1]+vel_3_a)/np.sqrt(1-np.linalg.norm(vel_3_a)**2)\n",
    "\n",
    "\n",
    "\n",
    "p_4_p=m_e*(vel_4_e+vel_4_a)\n",
    "\n",
    "\n",
    "display(Math(\"p_{(electron)}^u =\"+str(m_e)+\"\\cdot\"+r'\\begin{pmatrix} '+f\"{vel_4_e[0]}  \\\\\\\\ {vel_4_e[1]} \\\\\\\\ {vel_4_e[2]} \\\\\\\\ 0 \"+r'\\end{pmatrix}'))\n",
    "\n",
    "display(Math(\"p_{(positron)}^u =\"+str(m_e)+\"\\cdot\"+r'\\begin{pmatrix} '+f\"{vel_4_a[0]}  \\\\\\\\ {vel_4_a[1]} \\\\\\\\ {vel_4_a[2]} \\\\\\\\ 0\"+r'\\end{pmatrix}'))\n",
    "\n",
    "display(Math(\"p_{\\gamma}^u=\"+print_matrix(p_4_p)))\n",
    "\n",
    "display(Math(\"E_{\\gamma}=\"+f\"{(p_4_p[0]/1e6):.5f}\"+\"MeV\"))"
   ]
  },
  {
   "cell_type": "code",
   "execution_count": 4,
   "id": "6f7077da",
   "metadata": {},
   "outputs": [],
   "source": [
    "x=QF3D.Entity()\n",
    "\n",
    "for t in range(1,8):\n",
    "    x.add(QF3D.Fermion(\"electron\",(0,0,0),(1,0,0)))\n",
    "    x.add(QF3D.Fermion(\"electron\",tuple(initial_loc_e+vel_4_e[:3]*(t-1)),tuple(initial_loc_e+vel_4_e[:3]*t)))\n",
    "    x.add(QF3D.Fermion(\"electron\",tuple(initial_loc_a+vel_4_a[:3]*(t-1)),tuple(initial_loc_a+vel_4_a[:3]*t)))\n",
    "\n",
    "init_p=np.array((7.550269743983363, 2.000821482155591, 2.000821482155591))\n",
    "    \n",
    "\n",
    "x.add(QF3D.Boson(\"photon\",tuple(init_p),tuple(init_p+p_4_p[:3]*1e-5)))\n",
    "    \n",
    "x.view()"
   ]
  },
  {
   "cell_type": "code",
   "execution_count": 5,
   "id": "e33d8502",
   "metadata": {},
   "outputs": [
    {
     "data": {
      "text/latex": [
       "$\\displaystyle p_{(electron)}^u =511000.0\\cdot\\begin{pmatrix} 1.8576741710688316  \\\\ 1.4861393368550653 \\\\ 0.49228365533324037 \\\\ 0 \\end{pmatrix}$"
      ],
      "text/plain": [
       "<IPython.core.display.Math object>"
      ]
     },
     "metadata": {},
     "output_type": "display_data"
    },
    {
     "data": {
      "text/latex": [
       "$\\displaystyle p_{(positron)}^u =511000.0\\cdot\\begin{pmatrix} 2.346939386437862  \\\\ -0.6219389374060336 \\\\ 2.0301025692687507 \\\\ 0 \\end{pmatrix}$"
      ],
      "text/plain": [
       "<IPython.core.display.Math object>"
      ]
     },
     "metadata": {},
     "output_type": "display_data"
    },
    {
     "data": {
      "text/latex": [
       "$\\displaystyle p_{\\gamma}^u=\\begin{pmatrix}2148557.5278859204\\\\441606.4041184552\\\\1288939.3607716176\\\\0.0\\\\\\end{pmatrix}$"
      ],
      "text/plain": [
       "<IPython.core.display.Math object>"
      ]
     },
     "metadata": {},
     "output_type": "display_data"
    },
    {
     "data": {
      "text/latex": [
       "$\\displaystyle E_{\\gamma}=2.14856MeV$"
      ],
      "text/plain": [
       "<IPython.core.display.Math object>"
      ]
     },
     "metadata": {},
     "output_type": "display_data"
    }
   ],
   "source": [
    "m_e=0.511e6\n",
    "vel_3_e=[.8,.265,0]\n",
    "vel_3_a=[-.265,.865,0]\n",
    "\n",
    "vel_4_e=np.array([1]+vel_3_e)/np.sqrt(1-np.linalg.norm(vel_3_e)**2)\n",
    "vel_4_a=np.array([1]+vel_3_a)/np.sqrt(1-np.linalg.norm(vel_3_a)**2)\n",
    "\n",
    "\n",
    "\n",
    "p_4_p=m_e*(vel_4_e+vel_4_a)\n",
    "\n",
    "\n",
    "display(Math(\"p_{(electron)}^u =\"+str(m_e)+\"\\cdot\"+r'\\begin{pmatrix} '+f\"{vel_4_e[0]}  \\\\\\\\ {vel_4_e[1]} \\\\\\\\ {vel_4_e[2]} \\\\\\\\ 0 \"+r'\\end{pmatrix}'))\n",
    "\n",
    "display(Math(\"p_{(positron)}^u =\"+str(m_e)+\"\\cdot\"+r'\\begin{pmatrix} '+f\"{vel_4_a[0]}  \\\\\\\\ {vel_4_a[1]} \\\\\\\\ {vel_4_a[2]} \\\\\\\\ 0 \"+r'\\end{pmatrix}'))\n",
    "\n",
    "display(Math(\"p_{\\gamma}^u=\"+print_matrix(p_4_p)))\n",
    "\n",
    "display(Math(\"E_{\\gamma}=\"+f\"{(p_4_p[0]/1e6):.5f}\"+\"MeV\"))"
   ]
  },
  {
   "cell_type": "code",
   "execution_count": 6,
   "id": "1afb382e",
   "metadata": {},
   "outputs": [
    {
     "data": {
      "text/plain": [
       "((0, 0, 0), (13.003719197481821, 10.402975357985458, 3.4459855873326823))"
      ]
     },
     "execution_count": 6,
     "metadata": {},
     "output_type": "execute_result"
    }
   ],
   "source": [
    "tuple(initial_loc_e),tuple(initial_loc_e+vel_4_e[:3]*t)"
   ]
  }
 ],
 "metadata": {
  "kernelspec": {
   "display_name": "Python 3 (ipykernel)",
   "language": "python",
   "name": "python3"
  },
  "language_info": {
   "codemirror_mode": {
    "name": "ipython",
    "version": 3
   },
   "file_extension": ".py",
   "mimetype": "text/x-python",
   "name": "python",
   "nbconvert_exporter": "python",
   "pygments_lexer": "ipython3",
   "version": "3.9.7"
  }
 },
 "nbformat": 4,
 "nbformat_minor": 5
}
